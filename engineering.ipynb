{
 "cells": [
  {
   "cell_type": "code",
   "execution_count": 150,
   "metadata": {},
   "outputs": [
    {
     "data": {
      "text/html": [
       "        <script type=\"text/javascript\">\n",
       "        window.PlotlyConfig = {MathJaxConfig: 'local'};\n",
       "        if (window.MathJax) {MathJax.Hub.Config({SVG: {font: \"STIX-Web\"}});}\n",
       "        if (typeof require !== 'undefined') {\n",
       "        require.undef(\"plotly\");\n",
       "        requirejs.config({\n",
       "            paths: {\n",
       "                'plotly': ['https://cdn.plot.ly/plotly-latest.min']\n",
       "            }\n",
       "        });\n",
       "        require(['plotly'], function(Plotly) {\n",
       "            window._Plotly = Plotly;\n",
       "        });\n",
       "        }\n",
       "        </script>\n",
       "        "
      ]
     },
     "metadata": {},
     "output_type": "display_data"
    }
   ],
   "source": [
    "import pandas as pd\n",
    "import numpy as np\n",
    "from datetime import datetime\n",
    "import matplotlib.pyplot as plt\n",
    "import seaborn as sns\n",
    "plt.style.use('fivethirtyeight')\n",
    "sns.set()\n",
    "%matplotlib inline\n",
    "import plotly.offline as py\n",
    "py.init_notebook_mode(connected=True)\n",
    "import plotly.graph_objs as go\n",
    "import statsmodels.api as sm\n",
    "from xgboost import XGBRegressor\n",
    "import xgboost as xgb\n",
    "import lightgbm as lgb\n",
    "from sklearn.model_selection import train_test_split\n",
    "from sklearn.preprocessing import Imputer\n",
    "import warnings\n",
    "# import the_module_that_warns\n",
    "\n",
    "warnings.filterwarnings(\"ignore\")\n",
    "\n",
    "from fbprophet import Prophet"
   ]
  },
  {
   "cell_type": "code",
   "execution_count": 151,
   "metadata": {},
   "outputs": [],
   "source": [
    "train_df = pd.read_csv('train.csv')\n",
    "test_df = pd.read_csv('test.csv')\n",
    "sample_df = pd.read_csv('sample_submission.csv')"
   ]
  },
  {
   "cell_type": "code",
   "execution_count": 152,
   "metadata": {},
   "outputs": [
    {
     "data": {
      "text/html": [
       "<div>\n",
       "<style scoped>\n",
       "    .dataframe tbody tr th:only-of-type {\n",
       "        vertical-align: middle;\n",
       "    }\n",
       "\n",
       "    .dataframe tbody tr th {\n",
       "        vertical-align: top;\n",
       "    }\n",
       "\n",
       "    .dataframe thead th {\n",
       "        text-align: right;\n",
       "    }\n",
       "</style>\n",
       "<table border=\"1\" class=\"dataframe\">\n",
       "  <thead>\n",
       "    <tr style=\"text-align: right;\">\n",
       "      <th></th>\n",
       "      <th>id</th>\n",
       "      <th>2009-01</th>\n",
       "      <th>2009-02</th>\n",
       "      <th>2009-03</th>\n",
       "      <th>2009-04</th>\n",
       "      <th>2009-05</th>\n",
       "      <th>2009-06</th>\n",
       "      <th>2009-07</th>\n",
       "      <th>2009-08</th>\n",
       "      <th>2009-09</th>\n",
       "      <th>...</th>\n",
       "      <th>2018-08</th>\n",
       "      <th>2018-09</th>\n",
       "      <th>2018-10</th>\n",
       "      <th>2018-11</th>\n",
       "      <th>2018-12</th>\n",
       "      <th>2019-01</th>\n",
       "      <th>2019-02</th>\n",
       "      <th>2019-03</th>\n",
       "      <th>2019-04</th>\n",
       "      <th>2019-05</th>\n",
       "    </tr>\n",
       "  </thead>\n",
       "  <tbody>\n",
       "    <tr>\n",
       "      <td>0</td>\n",
       "      <td>0</td>\n",
       "      <td>26.68</td>\n",
       "      <td>11.86</td>\n",
       "      <td>19.77</td>\n",
       "      <td>14.83</td>\n",
       "      <td>7.90</td>\n",
       "      <td>2.96</td>\n",
       "      <td>5.93</td>\n",
       "      <td>4.94</td>\n",
       "      <td>4.94</td>\n",
       "      <td>...</td>\n",
       "      <td>1.97</td>\n",
       "      <td>0.98</td>\n",
       "      <td>2.96</td>\n",
       "      <td>4.94</td>\n",
       "      <td>6.91</td>\n",
       "      <td>9.88</td>\n",
       "      <td>0.00</td>\n",
       "      <td>2.96</td>\n",
       "      <td>7.90</td>\n",
       "      <td>4.94</td>\n",
       "    </tr>\n",
       "    <tr>\n",
       "      <td>1</td>\n",
       "      <td>1</td>\n",
       "      <td>107.73</td>\n",
       "      <td>77.09</td>\n",
       "      <td>79.09</td>\n",
       "      <td>4.94</td>\n",
       "      <td>48.44</td>\n",
       "      <td>22.74</td>\n",
       "      <td>33.61</td>\n",
       "      <td>23.72</td>\n",
       "      <td>23.72</td>\n",
       "      <td>...</td>\n",
       "      <td>11.85</td>\n",
       "      <td>11.85</td>\n",
       "      <td>19.76</td>\n",
       "      <td>22.73</td>\n",
       "      <td>38.54</td>\n",
       "      <td>145.28</td>\n",
       "      <td>56.33</td>\n",
       "      <td>62.26</td>\n",
       "      <td>58.31</td>\n",
       "      <td>32.61</td>\n",
       "    </tr>\n",
       "    <tr>\n",
       "      <td>2</td>\n",
       "      <td>2</td>\n",
       "      <td>94.88</td>\n",
       "      <td>90.93</td>\n",
       "      <td>78.10</td>\n",
       "      <td>66.24</td>\n",
       "      <td>38.55</td>\n",
       "      <td>25.70</td>\n",
       "      <td>27.68</td>\n",
       "      <td>26.69</td>\n",
       "      <td>18.78</td>\n",
       "      <td>...</td>\n",
       "      <td>0.00</td>\n",
       "      <td>0.00</td>\n",
       "      <td>0.00</td>\n",
       "      <td>0.00</td>\n",
       "      <td>81.04</td>\n",
       "      <td>130.45</td>\n",
       "      <td>71.15</td>\n",
       "      <td>0.00</td>\n",
       "      <td>0.00</td>\n",
       "      <td>0.00</td>\n",
       "    </tr>\n",
       "    <tr>\n",
       "      <td>3</td>\n",
       "      <td>3</td>\n",
       "      <td>0.00</td>\n",
       "      <td>0.00</td>\n",
       "      <td>149.29</td>\n",
       "      <td>51.41</td>\n",
       "      <td>6.92</td>\n",
       "      <td>8.89</td>\n",
       "      <td>2.96</td>\n",
       "      <td>2.96</td>\n",
       "      <td>1.97</td>\n",
       "      <td>...</td>\n",
       "      <td>0.00</td>\n",
       "      <td>0.00</td>\n",
       "      <td>5.92</td>\n",
       "      <td>26.68</td>\n",
       "      <td>74.12</td>\n",
       "      <td>158.12</td>\n",
       "      <td>159.11</td>\n",
       "      <td>105.75</td>\n",
       "      <td>86.97</td>\n",
       "      <td>43.48</td>\n",
       "    </tr>\n",
       "    <tr>\n",
       "      <td>4</td>\n",
       "      <td>4</td>\n",
       "      <td>97.85</td>\n",
       "      <td>97.85</td>\n",
       "      <td>70.19</td>\n",
       "      <td>60.31</td>\n",
       "      <td>31.63</td>\n",
       "      <td>25.70</td>\n",
       "      <td>20.76</td>\n",
       "      <td>22.74</td>\n",
       "      <td>20.76</td>\n",
       "      <td>...</td>\n",
       "      <td>8.89</td>\n",
       "      <td>8.89</td>\n",
       "      <td>16.80</td>\n",
       "      <td>22.73</td>\n",
       "      <td>20.75</td>\n",
       "      <td>26.68</td>\n",
       "      <td>32.61</td>\n",
       "      <td>19.76</td>\n",
       "      <td>21.74</td>\n",
       "      <td>15.81</td>\n",
       "    </tr>\n",
       "  </tbody>\n",
       "</table>\n",
       "<p>5 rows × 126 columns</p>\n",
       "</div>"
      ],
      "text/plain": [
       "   id  2009-01  2009-02  2009-03  2009-04  2009-05  2009-06  2009-07  2009-08  \\\n",
       "0   0    26.68    11.86    19.77    14.83     7.90     2.96     5.93     4.94   \n",
       "1   1   107.73    77.09    79.09     4.94    48.44    22.74    33.61    23.72   \n",
       "2   2    94.88    90.93    78.10    66.24    38.55    25.70    27.68    26.69   \n",
       "3   3     0.00     0.00   149.29    51.41     6.92     8.89     2.96     2.96   \n",
       "4   4    97.85    97.85    70.19    60.31    31.63    25.70    20.76    22.74   \n",
       "\n",
       "   2009-09  ...  2018-08  2018-09  2018-10  2018-11  2018-12  2019-01  \\\n",
       "0     4.94  ...     1.97     0.98     2.96     4.94     6.91     9.88   \n",
       "1    23.72  ...    11.85    11.85    19.76    22.73    38.54   145.28   \n",
       "2    18.78  ...     0.00     0.00     0.00     0.00    81.04   130.45   \n",
       "3     1.97  ...     0.00     0.00     5.92    26.68    74.12   158.12   \n",
       "4    20.76  ...     8.89     8.89    16.80    22.73    20.75    26.68   \n",
       "\n",
       "   2019-02  2019-03  2019-04  2019-05  \n",
       "0     0.00     2.96     7.90     4.94  \n",
       "1    56.33    62.26    58.31    32.61  \n",
       "2    71.15     0.00     0.00     0.00  \n",
       "3   159.11   105.75    86.97    43.48  \n",
       "4    32.61    19.76    21.74    15.81  \n",
       "\n",
       "[5 rows x 126 columns]"
      ]
     },
     "execution_count": 152,
     "metadata": {},
     "output_type": "execute_result"
    }
   ],
   "source": [
    "train_df.head()"
   ]
  },
  {
   "cell_type": "code",
   "execution_count": 153,
   "metadata": {},
   "outputs": [
    {
     "data": {
      "text/plain": [
       "(78587, 126)"
      ]
     },
     "execution_count": 153,
     "metadata": {},
     "output_type": "execute_result"
    }
   ],
   "source": [
    "train_df.shape"
   ]
  },
  {
   "cell_type": "code",
   "execution_count": 154,
   "metadata": {
    "scrolled": true
   },
   "outputs": [
    {
     "data": {
      "text/html": [
       "<div>\n",
       "<style scoped>\n",
       "    .dataframe tbody tr th:only-of-type {\n",
       "        vertical-align: middle;\n",
       "    }\n",
       "\n",
       "    .dataframe tbody tr th {\n",
       "        vertical-align: top;\n",
       "    }\n",
       "\n",
       "    .dataframe thead th {\n",
       "        text-align: right;\n",
       "    }\n",
       "</style>\n",
       "<table border=\"1\" class=\"dataframe\">\n",
       "  <thead>\n",
       "    <tr style=\"text-align: right;\">\n",
       "      <th></th>\n",
       "      <th>id</th>\n",
       "      <th>2009-01</th>\n",
       "      <th>2009-02</th>\n",
       "      <th>2009-03</th>\n",
       "      <th>2009-04</th>\n",
       "      <th>2009-05</th>\n",
       "      <th>2009-06</th>\n",
       "      <th>2009-07</th>\n",
       "      <th>2009-08</th>\n",
       "      <th>2009-09</th>\n",
       "      <th>...</th>\n",
       "      <th>2018-08</th>\n",
       "      <th>2018-09</th>\n",
       "      <th>2018-10</th>\n",
       "      <th>2018-11</th>\n",
       "      <th>2018-12</th>\n",
       "      <th>2019-01</th>\n",
       "      <th>2019-02</th>\n",
       "      <th>2019-03</th>\n",
       "      <th>2019-04</th>\n",
       "      <th>2019-05</th>\n",
       "    </tr>\n",
       "  </thead>\n",
       "  <tbody>\n",
       "    <tr>\n",
       "      <td>0</td>\n",
       "      <td>0</td>\n",
       "      <td>26.68</td>\n",
       "      <td>11.86</td>\n",
       "      <td>19.77</td>\n",
       "      <td>14.83</td>\n",
       "      <td>7.90</td>\n",
       "      <td>2.96</td>\n",
       "      <td>5.93</td>\n",
       "      <td>4.94</td>\n",
       "      <td>4.94</td>\n",
       "      <td>...</td>\n",
       "      <td>1.97</td>\n",
       "      <td>0.98</td>\n",
       "      <td>2.96</td>\n",
       "      <td>4.94</td>\n",
       "      <td>6.91</td>\n",
       "      <td>9.88</td>\n",
       "      <td>0.00</td>\n",
       "      <td>2.96</td>\n",
       "      <td>7.90</td>\n",
       "      <td>4.94</td>\n",
       "    </tr>\n",
       "    <tr>\n",
       "      <td>1</td>\n",
       "      <td>1</td>\n",
       "      <td>107.73</td>\n",
       "      <td>77.09</td>\n",
       "      <td>79.09</td>\n",
       "      <td>4.94</td>\n",
       "      <td>48.44</td>\n",
       "      <td>22.74</td>\n",
       "      <td>33.61</td>\n",
       "      <td>23.72</td>\n",
       "      <td>23.72</td>\n",
       "      <td>...</td>\n",
       "      <td>11.85</td>\n",
       "      <td>11.85</td>\n",
       "      <td>19.76</td>\n",
       "      <td>22.73</td>\n",
       "      <td>38.54</td>\n",
       "      <td>145.28</td>\n",
       "      <td>56.33</td>\n",
       "      <td>62.26</td>\n",
       "      <td>58.31</td>\n",
       "      <td>32.61</td>\n",
       "    </tr>\n",
       "    <tr>\n",
       "      <td>2</td>\n",
       "      <td>2</td>\n",
       "      <td>94.88</td>\n",
       "      <td>90.93</td>\n",
       "      <td>78.10</td>\n",
       "      <td>66.24</td>\n",
       "      <td>38.55</td>\n",
       "      <td>25.70</td>\n",
       "      <td>27.68</td>\n",
       "      <td>26.69</td>\n",
       "      <td>18.78</td>\n",
       "      <td>...</td>\n",
       "      <td>0.00</td>\n",
       "      <td>0.00</td>\n",
       "      <td>0.00</td>\n",
       "      <td>0.00</td>\n",
       "      <td>81.04</td>\n",
       "      <td>130.45</td>\n",
       "      <td>71.15</td>\n",
       "      <td>0.00</td>\n",
       "      <td>0.00</td>\n",
       "      <td>0.00</td>\n",
       "    </tr>\n",
       "    <tr>\n",
       "      <td>3</td>\n",
       "      <td>3</td>\n",
       "      <td>0.00</td>\n",
       "      <td>0.00</td>\n",
       "      <td>149.29</td>\n",
       "      <td>51.41</td>\n",
       "      <td>6.92</td>\n",
       "      <td>8.89</td>\n",
       "      <td>2.96</td>\n",
       "      <td>2.96</td>\n",
       "      <td>1.97</td>\n",
       "      <td>...</td>\n",
       "      <td>0.00</td>\n",
       "      <td>0.00</td>\n",
       "      <td>5.92</td>\n",
       "      <td>26.68</td>\n",
       "      <td>74.12</td>\n",
       "      <td>158.12</td>\n",
       "      <td>159.11</td>\n",
       "      <td>105.75</td>\n",
       "      <td>86.97</td>\n",
       "      <td>43.48</td>\n",
       "    </tr>\n",
       "    <tr>\n",
       "      <td>4</td>\n",
       "      <td>4</td>\n",
       "      <td>97.85</td>\n",
       "      <td>97.85</td>\n",
       "      <td>70.19</td>\n",
       "      <td>60.31</td>\n",
       "      <td>31.63</td>\n",
       "      <td>25.70</td>\n",
       "      <td>20.76</td>\n",
       "      <td>22.74</td>\n",
       "      <td>20.76</td>\n",
       "      <td>...</td>\n",
       "      <td>8.89</td>\n",
       "      <td>8.89</td>\n",
       "      <td>16.80</td>\n",
       "      <td>22.73</td>\n",
       "      <td>20.75</td>\n",
       "      <td>26.68</td>\n",
       "      <td>32.61</td>\n",
       "      <td>19.76</td>\n",
       "      <td>21.74</td>\n",
       "      <td>15.81</td>\n",
       "    </tr>\n",
       "    <tr>\n",
       "      <td>...</td>\n",
       "      <td>...</td>\n",
       "      <td>...</td>\n",
       "      <td>...</td>\n",
       "      <td>...</td>\n",
       "      <td>...</td>\n",
       "      <td>...</td>\n",
       "      <td>...</td>\n",
       "      <td>...</td>\n",
       "      <td>...</td>\n",
       "      <td>...</td>\n",
       "      <td>...</td>\n",
       "      <td>...</td>\n",
       "      <td>...</td>\n",
       "      <td>...</td>\n",
       "      <td>...</td>\n",
       "      <td>...</td>\n",
       "      <td>...</td>\n",
       "      <td>...</td>\n",
       "      <td>...</td>\n",
       "      <td>...</td>\n",
       "      <td>...</td>\n",
       "    </tr>\n",
       "    <tr>\n",
       "      <td>78582</td>\n",
       "      <td>78582</td>\n",
       "      <td>123.55</td>\n",
       "      <td>129.48</td>\n",
       "      <td>91.94</td>\n",
       "      <td>50.42</td>\n",
       "      <td>26.69</td>\n",
       "      <td>8.89</td>\n",
       "      <td>6.92</td>\n",
       "      <td>4.94</td>\n",
       "      <td>3.95</td>\n",
       "      <td>...</td>\n",
       "      <td>9.88</td>\n",
       "      <td>12.84</td>\n",
       "      <td>29.64</td>\n",
       "      <td>38.54</td>\n",
       "      <td>57.32</td>\n",
       "      <td>92.90</td>\n",
       "      <td>81.04</td>\n",
       "      <td>70.17</td>\n",
       "      <td>56.33</td>\n",
       "      <td>39.53</td>\n",
       "    </tr>\n",
       "    <tr>\n",
       "      <td>78583</td>\n",
       "      <td>78583</td>\n",
       "      <td>15.81</td>\n",
       "      <td>0.00</td>\n",
       "      <td>0.00</td>\n",
       "      <td>88.98</td>\n",
       "      <td>176.97</td>\n",
       "      <td>40.53</td>\n",
       "      <td>14.83</td>\n",
       "      <td>13.84</td>\n",
       "      <td>19.77</td>\n",
       "      <td>...</td>\n",
       "      <td>19.76</td>\n",
       "      <td>20.75</td>\n",
       "      <td>23.71</td>\n",
       "      <td>33.60</td>\n",
       "      <td>60.28</td>\n",
       "      <td>46.45</td>\n",
       "      <td>53.36</td>\n",
       "      <td>36.57</td>\n",
       "      <td>44.47</td>\n",
       "      <td>29.65</td>\n",
       "    </tr>\n",
       "    <tr>\n",
       "      <td>78584</td>\n",
       "      <td>78584</td>\n",
       "      <td>36.57</td>\n",
       "      <td>25.69</td>\n",
       "      <td>7.90</td>\n",
       "      <td>8.89</td>\n",
       "      <td>5.93</td>\n",
       "      <td>4.94</td>\n",
       "      <td>4.94</td>\n",
       "      <td>3.95</td>\n",
       "      <td>4.94</td>\n",
       "      <td>...</td>\n",
       "      <td>4.94</td>\n",
       "      <td>3.95</td>\n",
       "      <td>5.92</td>\n",
       "      <td>6.91</td>\n",
       "      <td>6.91</td>\n",
       "      <td>18.77</td>\n",
       "      <td>22.73</td>\n",
       "      <td>17.79</td>\n",
       "      <td>9.88</td>\n",
       "      <td>6.91</td>\n",
       "    </tr>\n",
       "    <tr>\n",
       "      <td>78585</td>\n",
       "      <td>78585</td>\n",
       "      <td>196.69</td>\n",
       "      <td>198.66</td>\n",
       "      <td>157.20</td>\n",
       "      <td>140.39</td>\n",
       "      <td>85.02</td>\n",
       "      <td>51.41</td>\n",
       "      <td>34.60</td>\n",
       "      <td>26.69</td>\n",
       "      <td>26.69</td>\n",
       "      <td>...</td>\n",
       "      <td>10.87</td>\n",
       "      <td>12.84</td>\n",
       "      <td>21.74</td>\n",
       "      <td>61.27</td>\n",
       "      <td>83.01</td>\n",
       "      <td>184.81</td>\n",
       "      <td>156.15</td>\n",
       "      <td>100.81</td>\n",
       "      <td>91.92</td>\n",
       "      <td>39.53</td>\n",
       "    </tr>\n",
       "    <tr>\n",
       "      <td>78586</td>\n",
       "      <td>78586</td>\n",
       "      <td>0.00</td>\n",
       "      <td>0.00</td>\n",
       "      <td>0.00</td>\n",
       "      <td>0.00</td>\n",
       "      <td>0.00</td>\n",
       "      <td>0.00</td>\n",
       "      <td>0.00</td>\n",
       "      <td>0.00</td>\n",
       "      <td>1.97</td>\n",
       "      <td>...</td>\n",
       "      <td>2.96</td>\n",
       "      <td>8.89</td>\n",
       "      <td>62.26</td>\n",
       "      <td>0.00</td>\n",
       "      <td>28.66</td>\n",
       "      <td>55.34</td>\n",
       "      <td>50.40</td>\n",
       "      <td>65.23</td>\n",
       "      <td>0.00</td>\n",
       "      <td>0.00</td>\n",
       "    </tr>\n",
       "  </tbody>\n",
       "</table>\n",
       "<p>78587 rows × 126 columns</p>\n",
       "</div>"
      ],
      "text/plain": [
       "          id  2009-01  2009-02  2009-03  2009-04  2009-05  2009-06  2009-07  \\\n",
       "0          0    26.68    11.86    19.77    14.83     7.90     2.96     5.93   \n",
       "1          1   107.73    77.09    79.09     4.94    48.44    22.74    33.61   \n",
       "2          2    94.88    90.93    78.10    66.24    38.55    25.70    27.68   \n",
       "3          3     0.00     0.00   149.29    51.41     6.92     8.89     2.96   \n",
       "4          4    97.85    97.85    70.19    60.31    31.63    25.70    20.76   \n",
       "...      ...      ...      ...      ...      ...      ...      ...      ...   \n",
       "78582  78582   123.55   129.48    91.94    50.42    26.69     8.89     6.92   \n",
       "78583  78583    15.81     0.00     0.00    88.98   176.97    40.53    14.83   \n",
       "78584  78584    36.57    25.69     7.90     8.89     5.93     4.94     4.94   \n",
       "78585  78585   196.69   198.66   157.20   140.39    85.02    51.41    34.60   \n",
       "78586  78586     0.00     0.00     0.00     0.00     0.00     0.00     0.00   \n",
       "\n",
       "       2009-08  2009-09  ...  2018-08  2018-09  2018-10  2018-11  2018-12  \\\n",
       "0         4.94     4.94  ...     1.97     0.98     2.96     4.94     6.91   \n",
       "1        23.72    23.72  ...    11.85    11.85    19.76    22.73    38.54   \n",
       "2        26.69    18.78  ...     0.00     0.00     0.00     0.00    81.04   \n",
       "3         2.96     1.97  ...     0.00     0.00     5.92    26.68    74.12   \n",
       "4        22.74    20.76  ...     8.89     8.89    16.80    22.73    20.75   \n",
       "...        ...      ...  ...      ...      ...      ...      ...      ...   \n",
       "78582     4.94     3.95  ...     9.88    12.84    29.64    38.54    57.32   \n",
       "78583    13.84    19.77  ...    19.76    20.75    23.71    33.60    60.28   \n",
       "78584     3.95     4.94  ...     4.94     3.95     5.92     6.91     6.91   \n",
       "78585    26.69    26.69  ...    10.87    12.84    21.74    61.27    83.01   \n",
       "78586     0.00     1.97  ...     2.96     8.89    62.26     0.00    28.66   \n",
       "\n",
       "       2019-01  2019-02  2019-03  2019-04  2019-05  \n",
       "0         9.88     0.00     2.96     7.90     4.94  \n",
       "1       145.28    56.33    62.26    58.31    32.61  \n",
       "2       130.45    71.15     0.00     0.00     0.00  \n",
       "3       158.12   159.11   105.75    86.97    43.48  \n",
       "4        26.68    32.61    19.76    21.74    15.81  \n",
       "...        ...      ...      ...      ...      ...  \n",
       "78582    92.90    81.04    70.17    56.33    39.53  \n",
       "78583    46.45    53.36    36.57    44.47    29.65  \n",
       "78584    18.77    22.73    17.79     9.88     6.91  \n",
       "78585   184.81   156.15   100.81    91.92    39.53  \n",
       "78586    55.34    50.40    65.23     0.00     0.00  \n",
       "\n",
       "[78587 rows x 126 columns]"
      ]
     },
     "execution_count": 154,
     "metadata": {},
     "output_type": "execute_result"
    }
   ],
   "source": [
    "train_df"
   ]
  },
  {
   "cell_type": "code",
   "execution_count": 155,
   "metadata": {},
   "outputs": [],
   "source": [
    "test_id = train_df.drop(['id'], axis = 1 ,inplace = False)\n",
    "X = train_df.drop(sample_df.columns, axis = 1, inplace = False)\n",
    "label = sample_df.columns[1:]\n",
    "y = train_df[label]"
   ]
  },
  {
   "cell_type": "code",
   "execution_count": 156,
   "metadata": {},
   "outputs": [],
   "source": [
    "train_X, test_X, train_y, test_y = train_test_split(X.as_matrix(), y.as_matrix(), test_size=0.25)\n",
    "my_imputer = Imputer()\n",
    "train_X = my_imputer.fit_transform(train_X)\n",
    "test_X = my_imputer.transform(test_X)"
   ]
  },
  {
   "cell_type": "code",
   "execution_count": 157,
   "metadata": {
    "scrolled": true
   },
   "outputs": [
    {
     "data": {
      "text/plain": [
       "(58940, 12)"
      ]
     },
     "execution_count": 157,
     "metadata": {},
     "output_type": "execute_result"
    }
   ],
   "source": [
    "train_y.shape"
   ]
  },
  {
   "cell_type": "code",
   "execution_count": 158,
   "metadata": {
    "scrolled": true
   },
   "outputs": [
    {
     "data": {
      "text/plain": [
       "XGBRegressor(base_score=0.5, booster=None, colsample_bylevel=1,\n",
       "             colsample_bynode=1, colsample_bytree=1, gamma=0, gpu_id=-1,\n",
       "             importance_type='gain', interaction_constraints=None,\n",
       "             learning_rate=0.300000012, max_delta_step=0, max_depth=6,\n",
       "             min_child_weight=1, missing=nan, monotone_constraints=None,\n",
       "             n_estimators=100, n_jobs=0, num_parallel_tree=1,\n",
       "             objective='reg:squarederror', random_state=0, reg_alpha=0,\n",
       "             reg_lambda=1, scale_pos_weight=1, subsample=1, tree_method=None,\n",
       "             validate_parameters=False, verbosity=None)"
      ]
     },
     "execution_count": 158,
     "metadata": {},
     "output_type": "execute_result"
    }
   ],
   "source": [
    "model = XGBRegressor()\n",
    "\n",
    "# Add silent=True to avoid printing out updates with each cycle\n",
    "my_model.fit(train_X, train_y[:,0], verbose=False)"
   ]
  },
  {
   "cell_type": "code",
   "execution_count": 159,
   "metadata": {},
   "outputs": [],
   "source": [
    "predictions = my_model.predict(test_X)"
   ]
  },
  {
   "cell_type": "code",
   "execution_count": 160,
   "metadata": {},
   "outputs": [
    {
     "data": {
      "text/plain": [
       "array([89.32992  , 18.18122  , 23.565561 , ..., 12.015357 ,  6.3885145,\n",
       "       21.333448 ], dtype=float32)"
      ]
     },
     "execution_count": 160,
     "metadata": {},
     "output_type": "execute_result"
    }
   ],
   "source": [
    "predictions"
   ]
  },
  {
   "cell_type": "code",
   "execution_count": 161,
   "metadata": {},
   "outputs": [
    {
     "data": {
      "text/plain": [
       "(19647, 12)"
      ]
     },
     "execution_count": 161,
     "metadata": {},
     "output_type": "execute_result"
    }
   ],
   "source": [
    "test_y.shape"
   ]
  },
  {
   "cell_type": "code",
   "execution_count": 162,
   "metadata": {},
   "outputs": [
    {
     "name": "stdout",
     "output_type": "stream",
     "text": [
      "Mean Absolute Error : 9.176799873371625\n"
     ]
    }
   ],
   "source": [
    "from sklearn.metrics import mean_absolute_error\n",
    "print(\"Mean Absolute Error : \" + str(mean_absolute_error(predictions, test_y[:,0])))"
   ]
  },
  {
   "cell_type": "code",
   "execution_count": 163,
   "metadata": {},
   "outputs": [
    {
     "data": {
      "text/plain": [
       "[<matplotlib.lines.Line2D at 0x1a08a3c9488>]"
      ]
     },
     "execution_count": 163,
     "metadata": {},
     "output_type": "execute_result"
    },
    {
     "data": {
      "image/png": "[encoded data removed]",
      "text/plain": [
       "<Figure size 432x288 with 1 Axes>"
      ]
     },
     "metadata": {
      "needs_background": "light"
     },
     "output_type": "display_data"
    }
   ],
   "source": [
    "plt.plot(predictions)"
   ]
  },
  {
   "cell_type": "code",
   "execution_count": 164,
   "metadata": {},
   "outputs": [
    {
     "data": {
      "text/plain": [
       "[<matplotlib.lines.Line2D at 0x1a08a415488>]"
      ]
     },
     "execution_count": 164,
     "metadata": {},
     "output_type": "execute_result"
    },
    {
     "data": {
      "image/png": "[encoded data removed]",
      "text/plain": [
       "<Figure size 432x288 with 1 Axes>"
      ]
     },
     "metadata": {
      "needs_background": "light"
     },
     "output_type": "display_data"
    }
   ],
   "source": [
    "plt.plot(test_y[:,0])"
   ]
  },
  {
   "cell_type": "code",
   "execution_count": 165,
   "metadata": {},
   "outputs": [
    {
     "data": {
      "text/plain": [
       "[<matplotlib.lines.Line2D at 0x1a08aa18388>]"
      ]
     },
     "execution_count": 165,
     "metadata": {},
     "output_type": "execute_result"
    },
    {
     "data": {
      "image/png": "[encoded data removed]",
      "text/plain": [
       "<Figure size 432x288 with 1 Axes>"
      ]
     },
     "metadata": {
      "needs_background": "light"
     },
     "output_type": "display_data"
    }
   ],
   "source": [
    "plt.plot(predictions - test_y[:,0])"
   ]
  },
  {
   "cell_type": "code",
   "execution_count": 148,
   "metadata": {},
   "outputs": [],
   "source": [
    "from sklearn import preprocessing"
   ]
  },
  {
   "cell_type": "code",
   "execution_count": 149,
   "metadata": {
    "scrolled": true
   },
   "outputs": [],
   "source": [
    "labels = preprocessing.LabelEncoder().fit_transform(train_y[:,0])"
   ]
  },
  {
   "cell_type": "code",
   "execution_count": null,
   "metadata": {},
   "outputs": [],
   "source": [
    "params = {\"objective\": \"multi:softprob\", \"eval_metric\":\"mlogloss\", \"num_class\": 9}"
   ]
  }
 ],
 "metadata": {
  "kernelspec": {
   "display_name": "Python 3",
   "language": "python",
   "name": "python3"
  },
  "language_info": {
   "codemirror_mode": {
    "name": "ipython",
    "version": 3
   },
   "file_extension": ".py",
   "mimetype": "text/x-python",
   "name": "python",
   "nbconvert_exporter": "python",
   "pygments_lexer": "ipython3",
   "version": "3.7.4"
  }
 },
 "nbformat": 4,
 "nbformat_minor": 2
}
